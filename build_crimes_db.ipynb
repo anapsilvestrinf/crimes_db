{
 "cells": [
  {
   "cell_type": "markdown",
   "metadata": {},
   "source": [
    "# Building a database for crime reports"
   ]
  },
  {
   "cell_type": "markdown",
   "metadata": {},
   "source": [
    "In this project, we will build a database for storing data related to crimes that occurred in Boston. \n",
    "\n",
    "Our goal is to create a database named crimes_db with a table – boston_crimes – inside a schema named crimes with appropriate datatypes for storing the data from the boston.csv file. Also, we will create readonly and readwrite groups with the appropriate privileges. Lastly, we will create one user for each of these groups."
   ]
  },
  {
   "cell_type": "code",
   "execution_count": 1,
   "metadata": {
    "collapsed": false
   },
   "outputs": [],
   "source": [
    "# Uncomment and run to run all jupyter notebook again without errors\n",
    "# Drop database \n",
    "\n",
    "# import psycopg2\n",
    "# conn = psycopg2.connect('dbname = dq user = dq')\n",
    "# conn.autocommit = True\n",
    "# cur = conn.cursor()\n",
    "# cur.execute('DROP DATABASE crime_db')\n",
    "\n",
    "# cur.execute('DROP GROUP readonly')\n",
    "# cur.execute('DROP GROUP readwrite')\n",
    "# cur.execute('DROP USER data_analyst')\n",
    "# cur.execute('DROP USER data_cientist')\n",
    "# conn.close()"
   ]
  },
  {
   "cell_type": "markdown",
   "metadata": {},
   "source": [
    "## Creating the Crime Database"
   ]
  },
  {
   "cell_type": "code",
   "execution_count": 2,
   "metadata": {
    "collapsed": false
   },
   "outputs": [],
   "source": [
    "# Create database\n",
    "import psycopg2\n",
    "conn = psycopg2.connect('dbname = dq user = dq')\n",
    "conn.autocommit = True\n",
    "cur = conn.cursor()\n",
    "cur.execute('CREATE DATABASE crime_db')\n",
    "conn.close()\n",
    "\n",
    "# Connect to the crime_db and create crimes schema\n",
    "conn = psycopg2.connect('dbname = crime_db user = dq')\n",
    "conn.autocommit = True\n",
    "cur = conn.cursor()\n",
    "cur.execute('CREATE SCHEMA crimes')"
   ]
  },
  {
   "cell_type": "markdown",
   "metadata": {},
   "source": [
    "## Obtaining the Column Names and Sample"
   ]
  },
  {
   "cell_type": "markdown",
   "metadata": {},
   "source": [
    "We will gather some data about our crime dataset so that we can easily select the right datatypes to use in our table."
   ]
  },
  {
   "cell_type": "code",
   "execution_count": 3,
   "metadata": {
    "collapsed": false
   },
   "outputs": [
    {
     "name": "stdout",
     "output_type": "stream",
     "text": [
      "['incident_number', 'offense_code', 'description', 'date', 'day_of_the_week', 'lat', 'long']\n",
      "['1', '619', 'LARCENY ALL OTHERS', '2018-09-02', 'Sunday', '42.35779134', '-71.13937053']\n"
     ]
    }
   ],
   "source": [
    "# Read CSV file\n",
    "import csv\n",
    "with open('boston.csv') as file:\n",
    "    read = list(csv.reader(file))\n",
    "    col_headers = read[0]\n",
    "    first_row = read[1]\n",
    "    \n",
    "print(col_headers)\n",
    "print(first_row)"
   ]
  },
  {
   "cell_type": "markdown",
   "metadata": {},
   "source": [
    "## Creating an Auxiliary Function"
   ]
  },
  {
   "cell_type": "markdown",
   "metadata": {},
   "source": [
    "To identify the proper datatypes for the column, we'll create a function — get_col_set() — that, given the name of a CSV file and a column index (starting at 0), computes a Python set with all distinct values contained in that column.\n",
    "\n",
    "Reasons why this function will be useful:\n",
    "* Checking whether an enumerated datatype might be a good choice for representing a column.\n",
    "* Computing the maximum length of any text-like column to select appropriate sizes for VARCHAR columns."
   ]
  },
  {
   "cell_type": "code",
   "execution_count": 4,
   "metadata": {
    "collapsed": true
   },
   "outputs": [],
   "source": [
    "# Create function\n",
    "def get_col_set(csv_filename, col_index):\n",
    "    column = set()\n",
    "    with open(csv_filename) as file:\n",
    "        next(file)\n",
    "        read = list(csv.reader(file))\n",
    "        for row in read:\n",
    "            column.add(row[col_index])\n",
    "     \n",
    "    return column"
   ]
  },
  {
   "cell_type": "markdown",
   "metadata": {},
   "source": [
    "### Finding the Number of Different Values in each Column"
   ]
  },
  {
   "cell_type": "code",
   "execution_count": 5,
   "metadata": {
    "collapsed": false
   },
   "outputs": [
    {
     "data": {
      "text/plain": [
       "{'date': 1177,\n",
       " 'day_of_the_week': 7,\n",
       " 'description': 239,\n",
       " 'incident_number': 298329,\n",
       " 'lat': 18177,\n",
       " 'long': 18177,\n",
       " 'offense_code': 219}"
      ]
     },
     "execution_count": 5,
     "metadata": {},
     "output_type": "execute_result"
    }
   ],
   "source": [
    "# Find number of different values each column contains\n",
    "len_diff_values = {}\n",
    "for col_index in range(len(col_headers)):\n",
    "    len_col = len(get_col_set('boston.csv', col_index))\n",
    "    len_diff_values[col_headers[col_index]] = len_col\n",
    "    \n",
    "len_diff_values"
   ]
  },
  {
   "cell_type": "markdown",
   "metadata": {},
   "source": [
    "day_of_the_week column is a good candidate for enumerated datatype."
   ]
  },
  {
   "cell_type": "markdown",
   "metadata": {
    "collapsed": true
   },
   "source": [
    "### Finding the Maximum Length"
   ]
  },
  {
   "cell_type": "code",
   "execution_count": 6,
   "metadata": {
    "collapsed": false
   },
   "outputs": [
    {
     "name": "stdout",
     "output_type": "stream",
     "text": [
      "description ['RECOVERED - MV RECOVERED IN BOSTON (STOLEN OUTSIDE BOSTON)', 58]\n",
      "lat ['42.27173781', 11]\n",
      "long ['-71.08670876', 12]\n",
      "offense_code ['1830', 4]\n",
      "incident_number ['227202', 6]\n",
      "day_of_the_week ['Wednesday', 9]\n",
      "date ['2018-05-30', 10]\n",
      "58\n"
     ]
    }
   ],
   "source": [
    "# Find longest element in each text column\n",
    "col_values = {}\n",
    "for col in range(len(col_headers)):\n",
    "    column = list(get_col_set('boston.csv', col))\n",
    "    if isinstance(column[0],str):\n",
    "        max_value = max(column, key=len)\n",
    "        col_values[col_headers[col]] = [max_value, len(max_value)]\n",
    "\n",
    "max_len = 0\n",
    "for key in col_values:\n",
    "    print(key, col_values[key])\n",
    "    max_len = max(max_len, col_values[key][1])\n",
    "    \n",
    "print(max_len)"
   ]
  },
  {
   "cell_type": "markdown",
   "metadata": {},
   "source": [
    "## Creating the Table"
   ]
  },
  {
   "cell_type": "code",
   "execution_count": 7,
   "metadata": {
    "collapsed": false
   },
   "outputs": [
    {
     "data": {
      "text/plain": [
       "{'date': ['2018-05-30', 10],\n",
       " 'day_of_the_week': ['Wednesday', 9],\n",
       " 'description': ['RECOVERED - MV RECOVERED IN BOSTON (STOLEN OUTSIDE BOSTON)',\n",
       "  58],\n",
       " 'incident_number': ['227202', 6],\n",
       " 'lat': ['42.27173781', 11],\n",
       " 'long': ['-71.08670876', 12],\n",
       " 'offense_code': ['1830', 4]}"
      ]
     },
     "execution_count": 7,
     "metadata": {},
     "output_type": "execute_result"
    }
   ],
   "source": [
    "# Read col_values\n",
    "col_values"
   ]
  },
  {
   "cell_type": "code",
   "execution_count": 8,
   "metadata": {
    "collapsed": false
   },
   "outputs": [
    {
     "data": {
      "text/plain": [
       "['incident_number',\n",
       " 'offense_code',\n",
       " 'description',\n",
       " 'date',\n",
       " 'day_of_the_week',\n",
       " 'lat',\n",
       " 'long']"
      ]
     },
     "execution_count": 8,
     "metadata": {},
     "output_type": "execute_result"
    }
   ],
   "source": [
    "# Read col_headers\n",
    "col_headers"
   ]
  },
  {
   "cell_type": "markdown",
   "metadata": {},
   "source": [
    "To create our table, we defined the following datatypes:\n",
    "* **DATE** for the data column.\n",
    "* **ENUM** for the day_of_the_week column since it has only seven values.\n",
    "* **VARCHAR** for the description column.\n",
    "* **INTEGER** for the incident_number and the offense_code columns.\n",
    "* **DECIMAL** for the lat and long columns."
   ]
  },
  {
   "cell_type": "code",
   "execution_count": 9,
   "metadata": {
    "collapsed": false
   },
   "outputs": [
    {
     "data": {
      "text/plain": [
       "['Friday', 'Wednesday', 'Thursday', 'Monday', 'Tuesday', 'Sunday', 'Saturday']"
      ]
     },
     "execution_count": 9,
     "metadata": {},
     "output_type": "execute_result"
    }
   ],
   "source": [
    "# Get the day_of_the_week set \n",
    "weekdays = list(get_col_set('boston.csv', 4))\n",
    "weekdays"
   ]
  },
  {
   "cell_type": "code",
   "execution_count": 10,
   "metadata": {
    "collapsed": false
   },
   "outputs": [],
   "source": [
    "# Create enumerated datatype for the day_of_the_week column\n",
    "enum_dtype = '''CREATE TYPE weekday AS ENUM (%s, %s, %s, %s, %s, %s, %s)'''\n",
    "cur.execute(enum_dtype, weekdays)"
   ]
  },
  {
   "cell_type": "markdown",
   "metadata": {},
   "source": [
    "In the Description column, the maximum length of text is 58. To be safe, we will limit the size of VARCHAR to 100."
   ]
  },
  {
   "cell_type": "code",
   "execution_count": 11,
   "metadata": {
    "collapsed": true
   },
   "outputs": [],
   "source": [
    "# Create table inside schema\n",
    "cur.execute('''CREATE TABLE crimes.boston_crimes (\n",
    "                   incident_number INTEGER PRIMARY KEY,\n",
    "                   offense_code INTEGER,\n",
    "                   description VARCHAR(100),\n",
    "                   date DATE,\n",
    "                   day_of_the_week weekday,\n",
    "                   lat DECIMAL,\n",
    "                   long DECIMAL\n",
    "            )''')"
   ]
  },
  {
   "cell_type": "markdown",
   "metadata": {},
   "source": [
    "## Loading the Data"
   ]
  },
  {
   "cell_type": "code",
   "execution_count": 12,
   "metadata": {
    "collapsed": false
   },
   "outputs": [
    {
     "data": {
      "text/plain": [
       "[(1,\n",
       "  619,\n",
       "  'LARCENY ALL OTHERS',\n",
       "  datetime.date(2018, 9, 2),\n",
       "  'Sunday',\n",
       "  Decimal('42.35779134'),\n",
       "  Decimal('-71.13937053')),\n",
       " (2,\n",
       "  1402,\n",
       "  'VANDALISM',\n",
       "  datetime.date(2018, 8, 21),\n",
       "  'Tuesday',\n",
       "  Decimal('42.30682138'),\n",
       "  Decimal('-71.06030035')),\n",
       " (3,\n",
       "  3410,\n",
       "  'TOWED MOTOR VEHICLE',\n",
       "  datetime.date(2018, 9, 3),\n",
       "  'Monday',\n",
       "  Decimal('42.34658879'),\n",
       "  Decimal('-71.07242943')),\n",
       " (4,\n",
       "  3114,\n",
       "  'INVESTIGATE PROPERTY',\n",
       "  datetime.date(2018, 9, 3),\n",
       "  'Monday',\n",
       "  Decimal('42.33418175'),\n",
       "  Decimal('-71.07866441')),\n",
       " (5,\n",
       "  3114,\n",
       "  'INVESTIGATE PROPERTY',\n",
       "  datetime.date(2018, 9, 3),\n",
       "  'Monday',\n",
       "  Decimal('42.27536542'),\n",
       "  Decimal('-71.09036101'))]"
      ]
     },
     "execution_count": 12,
     "metadata": {},
     "output_type": "execute_result"
    }
   ],
   "source": [
    "#Load data\n",
    "with open('boston.csv') as file:\n",
    "    cur.copy_expert('COPY crimes.boston_crimes FROM STDIN WITH CSV HEADER;', file)\n",
    "    \n",
    "# Test\n",
    "cur.execute('SELECT * FROM crimes.boston_crimes LIMIT 5')\n",
    "five_rows = cur.fetchall()\n",
    "five_rows"
   ]
  },
  {
   "cell_type": "markdown",
   "metadata": {},
   "source": [
    "## Revoking Public Privileges"
   ]
  },
  {
   "cell_type": "markdown",
   "metadata": {},
   "source": [
    "Our goal is to create two user groups: readonly and readwrite. That's why we need to revoke privileges inherited from the public group and on the public schema first."
   ]
  },
  {
   "cell_type": "code",
   "execution_count": 13,
   "metadata": {
    "collapsed": false
   },
   "outputs": [],
   "source": [
    "# Revoke privileges inherited\n",
    "cur.execute('REVOKE ALL ON SCHEMA public FROM public;')\n",
    "cur.execute('REVOKE ALL ON DATABASE crime_db FROM public')"
   ]
  },
  {
   "cell_type": "markdown",
   "metadata": {},
   "source": [
    "## Creating User Groups"
   ]
  },
  {
   "cell_type": "markdown",
   "metadata": {},
   "source": [
    "Readonly group can only make SELECT queries while readwrite group can use SELECT, INSERT, DELETE, and UPDATE in queries. \n",
    "\n",
    "Users in those groups can:\n",
    "* Connect to the database.\n",
    "* Use the crimes schema.\n",
    "\n",
    "We will create the groups with NOLOGIN because it is a group. Only user needs password to connec to the database. "
   ]
  },
  {
   "cell_type": "markdown",
   "metadata": {},
   "source": [
    "### Creating readonly group"
   ]
  },
  {
   "cell_type": "code",
   "execution_count": 14,
   "metadata": {
    "collapsed": false
   },
   "outputs": [],
   "source": [
    "# Create readonly group\n",
    "cur.execute('CREATE GROUP readonly NOLOGIN')\n",
    "# Grant privileges to readonly group\n",
    "cur.execute('GRANT CONNECT ON DATABASE crime_db TO readonly')\n",
    "cur.execute('GRANT USAGE ON SCHEMA crimes TO readonly')\n",
    "cur.execute('GRANT SELECT ON ALL TABLES IN SCHEMA crimes TO readonly;')"
   ]
  },
  {
   "cell_type": "markdown",
   "metadata": {},
   "source": [
    "### Creating readwrite group"
   ]
  },
  {
   "cell_type": "code",
   "execution_count": 15,
   "metadata": {
    "collapsed": false
   },
   "outputs": [],
   "source": [
    "# Create readwrite group\n",
    "cur.execute('CREATE GROUP readwrite NOLOGIN')\n",
    "\n",
    "# Grant privileges to each group\n",
    "cur.execute('GRANT CONNECT ON DATABASE crime_db TO readwrite')\n",
    "cur.execute('GRANT USAGE ON SCHEMA crimes TO readwrite')\n",
    "cur.execute('''GRANT SELECT, INSERT, DELETE, UPDATE \n",
    "                  ON ALL TABLES IN SCHEMA crimes TO readwrite''')"
   ]
  },
  {
   "cell_type": "markdown",
   "metadata": {},
   "source": [
    "## Creating Users"
   ]
  },
  {
   "cell_type": "markdown",
   "metadata": {},
   "source": [
    "Lastly, we will create one user in each group."
   ]
  },
  {
   "cell_type": "markdown",
   "metadata": {},
   "source": [
    "### User data_analyst"
   ]
  },
  {
   "cell_type": "code",
   "execution_count": 16,
   "metadata": {
    "collapsed": false
   },
   "outputs": [],
   "source": [
    "# Creat data_analyst user and grant group readonly\n",
    "cur.execute(\"CREATE USER data_analyst WITH PASSWORD 'secret1';\")\n",
    "cur.execute('GRANT readonly to data_analyst;')"
   ]
  },
  {
   "cell_type": "markdown",
   "metadata": {},
   "source": [
    "### User data_cientist"
   ]
  },
  {
   "cell_type": "code",
   "execution_count": 17,
   "metadata": {
    "collapsed": false
   },
   "outputs": [],
   "source": [
    "# Create data_cientist user and gran group readwrite\n",
    "cur.execute(\"CREATE USER data_cientist WITH PASSWORD 'secret2'\")\n",
    "cur.execute(\"GRANT readwrite TO data_cientist\")"
   ]
  },
  {
   "cell_type": "markdown",
   "metadata": {},
   "source": [
    "## Test"
   ]
  },
  {
   "cell_type": "markdown",
   "metadata": {},
   "source": [
    "Lastly, we will check the privileges."
   ]
  },
  {
   "cell_type": "code",
   "execution_count": 18,
   "metadata": {
    "collapsed": false
   },
   "outputs": [
    {
     "name": "stdout",
     "output_type": "stream",
     "text": [
      "['Role name', 'Superuser privileges', 'Can create roles', 'Can create databases', 'Can login']\n",
      "('readonly', False, False, False, False)\n",
      "('readwrite', False, False, False, False)\n",
      "('data_analyst', False, False, False, True)\n",
      "('data_cientist', False, False, False, True)\n",
      "('readonly', 'SELECT')\n",
      "('readwrite', 'INSERT')\n",
      "('readwrite', 'SELECT')\n",
      "('readwrite', 'UPDATE')\n",
      "('readwrite', 'DELETE')\n"
     ]
    }
   ],
   "source": [
    "# Check privileges in the table\n",
    "cur.execute('''SELECT rolname, rolsuper, rolcreaterole, rolcreatedb, rolcanlogin\n",
    "                 FROM pg_roles \n",
    "                WHERE rolname in ('readonly', 'readwrite', 'data_analyst', 'data_cientist')\n",
    "            ''')\n",
    "roles = cur.fetchall()\n",
    "\n",
    "print(['Role name', 'Superuser privileges', 'Can create roles', 'Can create databases', 'Can login'])\n",
    "for role in roles:\n",
    "    print(role)\n",
    "    \n",
    "cur.execute('''SELECT grantee, privilege_type\n",
    "                 FROM information_schema.table_privileges\n",
    "                WHERE table_name = 'boston_crimes'\n",
    "                  AND grantee IN ('readonly', 'readwrite');\n",
    "            ''')\n",
    "privileges = cur.fetchall()\n",
    "\n",
    "for row in privileges:\n",
    "    print(row)\n",
    "    \n",
    "conn.close()"
   ]
  }
 ],
 "metadata": {
  "kernelspec": {
   "display_name": "Python 3",
   "language": "python",
   "name": "python3"
  },
  "language_info": {
   "codemirror_mode": {
    "name": "ipython",
    "version": 3
   },
   "file_extension": ".py",
   "mimetype": "text/x-python",
   "name": "python",
   "nbconvert_exporter": "python",
   "pygments_lexer": "ipython3",
   "version": "3.4.3"
  }
 },
 "nbformat": 4,
 "nbformat_minor": 2
}
